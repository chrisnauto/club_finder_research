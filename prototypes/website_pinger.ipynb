{
 "cells": [
  {
   "metadata": {
    "ExecuteTime": {
     "end_time": "2025-01-21T15:38:59.611151Z",
     "start_time": "2025-01-21T15:38:59.608163Z"
    }
   },
   "cell_type": "code",
   "source": [
    "import sys\n",
    "import os\n",
    "sys.path.append(os.path.abspath('/Users/chrish/PycharmProjects/platform/backend/modules'))\n",
    "from utils.requests import api_request"
   ],
   "id": "4d1b6435db5b0895",
   "outputs": [],
   "execution_count": 18
  },
  {
   "cell_type": "code",
   "id": "initial_id",
   "metadata": {
    "collapsed": true,
    "ExecuteTime": {
     "end_time": "2025-01-21T15:41:10.064793Z",
     "start_time": "2025-01-21T15:41:10.060006Z"
    }
   },
   "source": [
    "def is_site_up(url):\n",
    "    response = api_request(url=url, response_format='html')\n",
    "    status_code = response.get('status_code')\n",
    "\n",
    "    return status_code == 200"
   ],
   "outputs": [],
   "execution_count": 25
  },
  {
   "metadata": {
    "ExecuteTime": {
     "end_time": "2025-01-21T15:41:12.015531Z",
     "start_time": "2025-01-21T15:41:11.106417Z"
    }
   },
   "cell_type": "code",
   "source": [
    "url = 'https://aardwolfarchers.org.uk'\n",
    "print(is_site_up(url))"
   ],
   "id": "1dcfc58101f1f125",
   "outputs": [
    {
     "name": "stdout",
     "output_type": "stream",
     "text": [
      "True\n"
     ]
    }
   ],
   "execution_count": 26
  },
  {
   "metadata": {
    "ExecuteTime": {
     "end_time": "2025-01-21T15:41:14.109307Z",
     "start_time": "2025-01-21T15:41:14.072329Z"
    }
   },
   "cell_type": "code",
   "source": [
    "url = 'http://www.leeds-gym.co.uk/boxing-club.php'\n",
    "print(is_site_up(url))"
   ],
   "id": "d7fa8e5dd9c6254a",
   "outputs": [
    {
     "name": "stdout",
     "output_type": "stream",
     "text": [
      "False\n"
     ]
    }
   ],
   "execution_count": 27
  }
 ],
 "metadata": {
  "kernelspec": {
   "display_name": "Python 3",
   "language": "python",
   "name": "python3"
  },
  "language_info": {
   "codemirror_mode": {
    "name": "ipython",
    "version": 2
   },
   "file_extension": ".py",
   "mimetype": "text/x-python",
   "name": "python",
   "nbconvert_exporter": "python",
   "pygments_lexer": "ipython2",
   "version": "2.7.6"
  }
 },
 "nbformat": 4,
 "nbformat_minor": 5
}
