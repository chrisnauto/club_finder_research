{
 "cells": [
  {
   "metadata": {
    "ExecuteTime": {
     "end_time": "2025-01-21T16:58:48.039850Z",
     "start_time": "2025-01-21T16:58:48.035246Z"
    }
   },
   "cell_type": "code",
   "source": [
    "import requests\n",
    "from bs4 import BeautifulSoup\n",
    "from requests.exceptions import MissingSchema\n",
    "\n",
    "import re\n",
    "import sys\n",
    "import os\n",
    "sys.path.append(os.path.abspath('/Users/chrish/PycharmProjects/platform/backend/modules'))\n",
    "from utils.requests import api_request"
   ],
   "id": "5989ab541200002",
   "outputs": [],
   "execution_count": 48
  },
  {
   "cell_type": "code",
   "id": "initial_id",
   "metadata": {
    "collapsed": true,
    "ExecuteTime": {
     "end_time": "2025-01-21T16:58:48.047440Z",
     "start_time": "2025-01-21T16:58:48.044362Z"
    }
   },
   "source": [
    "def get_site_title(url):\n",
    "    try:\n",
    "        response = requests.get(url)\n",
    "    except MissingSchema:\n",
    "        return None\n",
    "\n",
    "    soup = BeautifulSoup(response.content, 'html.parser')\n",
    "\n",
    "    return soup.title.string"
   ],
   "outputs": [],
   "execution_count": 49
  },
  {
   "metadata": {
    "ExecuteTime": {
     "end_time": "2025-01-21T16:58:48.835877Z",
     "start_time": "2025-01-21T16:58:48.055016Z"
    }
   },
   "cell_type": "code",
   "source": [
    "base_url = \"https://aardwolfarchers.org.uk\"\n",
    "title = get_site_title(base_url)\n",
    "print(title)"
   ],
   "id": "675bb6c62c7e29b",
   "outputs": [
    {
     "name": "stdout",
     "output_type": "stream",
     "text": [
      "Aardwolf Archers – A Sheffield Target Archery Club\n"
     ]
    }
   ],
   "execution_count": 50
  },
  {
   "metadata": {
    "ExecuteTime": {
     "end_time": "2025-01-21T17:01:23.287474Z",
     "start_time": "2025-01-21T17:01:23.281887Z"
    }
   },
   "cell_type": "code",
   "source": [
    "def compare_titles(data_title, scraped_title):\n",
    "    #TODO use AI to compare the titles, give a score on how similar they are\n",
    "    # if data_title == scraped_title:\n",
    "    #     return True\n",
    "    # else:\n",
    "    #     return False\n",
    "\n",
    "    ai_request_url = 'http://172.16.0.170:5678/webhook-test/title_comparison'\n",
    "    ai_data = {\n",
    "      \"web_title\": scraped_title,\n",
    "      \"data_title\": data_title\n",
    "    }\n",
    "\n",
    "    r = api_request(request_type=\"POST\", data=ai_data, url=ai_request_url)\n",
    "    if r.get('status_code') != 200:\n",
    "        print('Could not connect to ai server')\n",
    "        return -1\n",
    "\n",
    "    print(r.get('response').get('output'))\n",
    "    chat_response = r.get('response').get('output').strip()\n",
    "    score = chat_response.partition('\\n')[0]\n",
    "\n",
    "    score = int(re.search(r'(\\d+)', score).group())\n",
    "    print('\\n' + str(score))\n",
    "\n",
    "    # temporary threshold, should change with more testing\n",
    "    if score > 6:\n",
    "        return True\n",
    "    else:\n",
    "        return False\n",
    "\n"
   ],
   "id": "c830ac0d24edaba3",
   "outputs": [],
   "execution_count": 56
  },
  {
   "metadata": {
    "ExecuteTime": {
     "end_time": "2025-01-21T17:01:34.711710Z",
     "start_time": "2025-01-21T17:01:32.449240Z"
    }
   },
   "cell_type": "code",
   "source": [
    "data_title = \"Aardwolf Archers\"\n",
    "comparison = compare_titles(data_title, title)\n",
    "print(comparison)"
   ],
   "id": "a1c429796b81cc1b",
   "outputs": [
    {
     "name": "stdout",
     "output_type": "stream",
     "text": [
      "\n",
      "Score: 8/10\n",
      "\n",
      "The web title \"Aardwolf Archers – A Sheffield Target Archery Club\" and the data title \"Aardwolf Archers\" are similar, but not identical. The web title includes the additional information \"– A Sheffield Target Archery Club\", which is not present in the data title.\n",
      "\n",
      "8\n",
      "True\n"
     ]
    }
   ],
   "execution_count": 58
  }
 ],
 "metadata": {
  "kernelspec": {
   "display_name": "Python 3",
   "language": "python",
   "name": "python3"
  },
  "language_info": {
   "codemirror_mode": {
    "name": "ipython",
    "version": 2
   },
   "file_extension": ".py",
   "mimetype": "text/x-python",
   "name": "python",
   "nbconvert_exporter": "python",
   "pygments_lexer": "ipython2",
   "version": "2.7.6"
  }
 },
 "nbformat": 4,
 "nbformat_minor": 5
}
