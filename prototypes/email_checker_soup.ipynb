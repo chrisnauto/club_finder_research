{
 "cells": [
  {
   "cell_type": "code",
   "id": "initial_id",
   "metadata": {
    "collapsed": true,
    "ExecuteTime": {
     "end_time": "2025-01-20T17:04:32.476486Z",
     "start_time": "2025-01-20T17:04:32.469605Z"
    }
   },
   "source": [
    "from bs4 import BeautifulSoup\n",
    "\n",
    "import requests\n",
    "import os\n",
    "from requests.exceptions import MissingSchema"
   ],
   "outputs": [],
   "execution_count": 30
  },
  {
   "metadata": {
    "ExecuteTime": {
     "end_time": "2025-01-20T17:04:32.494056Z",
     "start_time": "2025-01-20T17:04:32.490384Z"
    }
   },
   "cell_type": "code",
   "source": [
    "def get_site_text(url):\n",
    "\n",
    "    try:\n",
    "        response = requests.get(url)\n",
    "    except MissingSchema:\n",
    "        return \"\"\n",
    "\n",
    "    html_content = response.text\n",
    "    soup = BeautifulSoup(html_content, 'html.parser')\n",
    "\n",
    "    return soup.get_text()"
   ],
   "id": "8ebd3b3fe63cd1b8",
   "outputs": [],
   "execution_count": 31
  },
  {
   "metadata": {
    "ExecuteTime": {
     "end_time": "2025-01-20T17:04:32.506190Z",
     "start_time": "2025-01-20T17:04:32.502836Z"
    }
   },
   "cell_type": "code",
   "source": [
    "def get_links(url):\n",
    "    response = requests.get(url)\n",
    "    soup = BeautifulSoup(response.text, 'html.parser')\n",
    "\n",
    "    urls = [url]\n",
    "    for link in soup.find_all('a'):\n",
    "        if link not in urls:\n",
    "                urls.append(link.get('href'))\n",
    "\n",
    "    return urls"
   ],
   "id": "dda9622e381eab27",
   "outputs": [],
   "execution_count": 32
  },
  {
   "metadata": {
    "ExecuteTime": {
     "end_time": "2025-01-20T17:04:32.519859Z",
     "start_time": "2025-01-20T17:04:32.517630Z"
    }
   },
   "cell_type": "code",
   "source": [
    "url = \"https://aardwolfarchers.org.uk\"\n",
    "filename = \"aardwol.txt\""
   ],
   "id": "c516bfa2a65bf3fb",
   "outputs": [],
   "execution_count": 33
  },
  {
   "metadata": {
    "ExecuteTime": {
     "end_time": "2025-01-20T17:04:33.356369Z",
     "start_time": "2025-01-20T17:04:32.528893Z"
    }
   },
   "cell_type": "code",
   "source": [
    "list_of_urls = get_links(url)\n",
    "print(list_of_urls)"
   ],
   "id": "bce05fd34aab8aa0",
   "outputs": [
    {
     "name": "stdout",
     "output_type": "stream",
     "text": [
      "['https://aardwolfarchers.org.uk', '#main', 'https://aardwolfarchers.org.uk/', 'https://aardwolfarchers.org.uk/', 'https://aardwolfarchers.org.uk/about/', 'https://aardwolfarchers.org.uk/course/', 'https://aardwolfarchers.org.uk/books/', 'https://aardwolfarchers.org.uk/contact/', 'https://aardwolfarchers.org.uk/resources/', 'https://aardwolfarchers.org.uk/lessons/', 'https://aardwolfarchers.org.uk/', 'https://aardwolfarchers.org.uk/course/', 'https://pindersschoolwear.com/', 'https://aardwolfarchers.org.uk/about/', 'https://aardwolfarchers.org.uk/course/', 'https://aardwolfarchers.org.uk/books/', 'https://aardwolfarchers.org.uk/contact/', 'https://aardwolfarchers.org.uk/lessons/', 'https://www.kadencewp.com/', 'https://aardwolfarchers.org.uk/', 'https://aardwolfarchers.org.uk/about/', 'https://aardwolfarchers.org.uk/course/', 'https://aardwolfarchers.org.uk/books/', 'https://aardwolfarchers.org.uk/contact/', 'https://aardwolfarchers.org.uk/resources/', 'https://aardwolfarchers.org.uk/lessons/']\n"
     ]
    }
   ],
   "execution_count": 34
  },
  {
   "metadata": {
    "ExecuteTime": {
     "end_time": "2025-01-20T17:04:33.377092Z",
     "start_time": "2025-01-20T17:04:33.374169Z"
    }
   },
   "cell_type": "code",
   "source": [
    "def format_string(string):\n",
    "    string = string.strip()\n",
    "    string = os.linesep.join([s for s in string.splitlines() if s])\n",
    "    return string"
   ],
   "id": "b5bf08e534fc62c3",
   "outputs": [],
   "execution_count": 35
  },
  {
   "metadata": {
    "ExecuteTime": {
     "end_time": "2025-01-20T17:04:51.730832Z",
     "start_time": "2025-01-20T17:04:33.380841Z"
    }
   },
   "cell_type": "code",
   "source": [
    "site_text = \"\"\n",
    "with open(filename, \"w\") as file:\n",
    "    for site in list_of_urls:\n",
    "        formatted_string = format_string(get_site_text(site) + \"\\n\\n\")\n",
    "        file.write(formatted_string)\n"
   ],
   "id": "5a7cc0d8c72355a5",
   "outputs": [],
   "execution_count": 36
  }
 ],
 "metadata": {
  "kernelspec": {
   "display_name": "Python 3",
   "language": "python",
   "name": "python3"
  },
  "language_info": {
   "codemirror_mode": {
    "name": "ipython",
    "version": 2
   },
   "file_extension": ".py",
   "mimetype": "text/x-python",
   "name": "python",
   "nbconvert_exporter": "python",
   "pygments_lexer": "ipython2",
   "version": "2.7.6"
  }
 },
 "nbformat": 4,
 "nbformat_minor": 5
}
