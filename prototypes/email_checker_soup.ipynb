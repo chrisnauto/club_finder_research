{
 "cells": [
  {
   "cell_type": "code",
   "id": "initial_id",
   "metadata": {
    "collapsed": true,
    "ExecuteTime": {
     "end_time": "2025-01-21T14:28:44.522752Z",
     "start_time": "2025-01-21T14:28:44.519204Z"
    }
   },
   "source": [
    "from bs4 import BeautifulSoup\n",
    "from validate_email import validate_email\n",
    "\n",
    "import requests\n",
    "import os\n",
    "import re\n",
    "from requests.exceptions import MissingSchema"
   ],
   "outputs": [],
   "execution_count": 30
  },
  {
   "metadata": {
    "ExecuteTime": {
     "end_time": "2025-01-21T14:28:44.544926Z",
     "start_time": "2025-01-21T14:28:44.541545Z"
    }
   },
   "cell_type": "code",
   "source": [
    "def get_site_text(url):\n",
    "    try:\n",
    "        response = requests.get(url)\n",
    "    except MissingSchema:\n",
    "        return \"\"\n",
    "\n",
    "    soup = BeautifulSoup(response.text, 'html.parser')\n",
    "\n",
    "    return soup.get_text()"
   ],
   "id": "8ebd3b3fe63cd1b8",
   "outputs": [],
   "execution_count": 31
  },
  {
   "metadata": {
    "ExecuteTime": {
     "end_time": "2025-01-21T14:28:44.565918Z",
     "start_time": "2025-01-21T14:28:44.562251Z"
    }
   },
   "cell_type": "code",
   "source": [
    "def get_links(url):\n",
    "    try:\n",
    "        response = requests.get(url)\n",
    "    except MissingSchema:\n",
    "        return \"\"\n",
    "\n",
    "    soup = BeautifulSoup(response.text, 'html.parser')\n",
    "\n",
    "    urls = [url]\n",
    "    for link in soup.find_all('a'):\n",
    "        if link not in urls:\n",
    "                urls.append(link.get('href'))\n",
    "\n",
    "    return urls"
   ],
   "id": "dda9622e381eab27",
   "outputs": [],
   "execution_count": 32
  },
  {
   "metadata": {
    "ExecuteTime": {
     "end_time": "2025-01-21T14:28:44.576684Z",
     "start_time": "2025-01-21T14:28:44.574495Z"
    }
   },
   "cell_type": "code",
   "source": [
    "base_url = \"https://aardwolfarchers.org.uk\"\n",
    "filename = \"aardwol.txt\""
   ],
   "id": "c516bfa2a65bf3fb",
   "outputs": [],
   "execution_count": 33
  },
  {
   "metadata": {
    "ExecuteTime": {
     "end_time": "2025-01-21T14:28:45.375347Z",
     "start_time": "2025-01-21T14:28:44.582746Z"
    }
   },
   "cell_type": "code",
   "source": [
    "list_of_urls = get_links(base_url)\n",
    "print(list_of_urls)"
   ],
   "id": "bce05fd34aab8aa0",
   "outputs": [
    {
     "name": "stdout",
     "output_type": "stream",
     "text": [
      "['https://aardwolfarchers.org.uk', '#main', 'https://aardwolfarchers.org.uk/', 'https://aardwolfarchers.org.uk/', 'https://aardwolfarchers.org.uk/about/', 'https://aardwolfarchers.org.uk/course/', 'https://aardwolfarchers.org.uk/books/', 'https://aardwolfarchers.org.uk/contact/', 'https://aardwolfarchers.org.uk/resources/', 'https://aardwolfarchers.org.uk/lessons/', 'https://aardwolfarchers.org.uk/', 'https://aardwolfarchers.org.uk/course/', 'https://pindersschoolwear.com/', 'https://aardwolfarchers.org.uk/about/', 'https://aardwolfarchers.org.uk/course/', 'https://aardwolfarchers.org.uk/books/', 'https://aardwolfarchers.org.uk/contact/', 'https://aardwolfarchers.org.uk/lessons/', 'https://www.kadencewp.com/', 'https://aardwolfarchers.org.uk/', 'https://aardwolfarchers.org.uk/about/', 'https://aardwolfarchers.org.uk/course/', 'https://aardwolfarchers.org.uk/books/', 'https://aardwolfarchers.org.uk/contact/', 'https://aardwolfarchers.org.uk/resources/', 'https://aardwolfarchers.org.uk/lessons/']\n"
     ]
    }
   ],
   "execution_count": 34
  },
  {
   "metadata": {
    "ExecuteTime": {
     "end_time": "2025-01-21T14:28:45.383759Z",
     "start_time": "2025-01-21T14:28:45.381516Z"
    }
   },
   "cell_type": "code",
   "source": [
    "def format_string(string):\n",
    "    string = string.strip()\n",
    "    string = os.linesep.join([s for s in string.splitlines() if s])\n",
    "    return string"
   ],
   "id": "b5bf08e534fc62c3",
   "outputs": [],
   "execution_count": 35
  },
  {
   "metadata": {
    "ExecuteTime": {
     "end_time": "2025-01-21T14:29:03.256387Z",
     "start_time": "2025-01-21T14:28:45.395477Z"
    }
   },
   "cell_type": "code",
   "source": [
    "with open(filename, \"w\") as file:\n",
    "    for site in list_of_urls:\n",
    "        formatted_string = format_string(get_site_text(site) + \"\\n\\n\")\n",
    "        file.write(formatted_string)"
   ],
   "id": "5a7cc0d8c72355a5",
   "outputs": [],
   "execution_count": 36
  },
  {
   "metadata": {
    "ExecuteTime": {
     "end_time": "2025-01-21T14:29:03.264194Z",
     "start_time": "2025-01-21T14:29:03.260908Z"
    }
   },
   "cell_type": "code",
   "source": [
    "def email_finder(file_addr) -> list[str]:\n",
    "    with open(file_addr, \"r\") as file:\n",
    "        emails = re.findall(r\"[a-z0-9\\.\\-+_]+@[a-z0-9\\.\\-+_]+\\.[a-z]+\", file.read())\n",
    "\n",
    "        return emails"
   ],
   "id": "6362acf46036801c",
   "outputs": [],
   "execution_count": 37
  },
  {
   "metadata": {
    "ExecuteTime": {
     "end_time": "2025-01-21T14:29:03.277099Z",
     "start_time": "2025-01-21T14:29:03.273478Z"
    }
   },
   "cell_type": "code",
   "source": [
    "def email_checker(emails, email) -> bool:\n",
    "\n",
    "    valid_email = validate_email(email, check_format=True, check_blacklist=True, check_dns=True, dns_timeout=10, check_smtp=True, smtp_timeout=10)\n",
    "    if not valid_email:\n",
    "        print(\"email is invalid\")\n",
    "        return False\n",
    "\n",
    "    if email not in emails:\n",
    "        print(\"email not found on website\")\n",
    "        return False\n",
    "    else:\n",
    "        print(\"email is found on website\")\n",
    "        return True\n",
    "\n"
   ],
   "id": "31e3917c7bc4a718",
   "outputs": [],
   "execution_count": 38
  },
  {
   "metadata": {
    "ExecuteTime": {
     "end_time": "2025-01-21T14:29:03.286662Z",
     "start_time": "2025-01-21T14:29:03.284162Z"
    }
   },
   "cell_type": "code",
   "source": [
    "def company_email_finder(emails):\n",
    "    #TODO just a temp solution, could also compare the company name to email to get most similar or ask an ai to guess which would be the most likely email\n",
    "    most_common_email = max(set(emails), key=emails.count)\n",
    "    print(\"Adding new email\")\n",
    "    return most_common_email"
   ],
   "id": "e98a54aeb8a071e3",
   "outputs": [],
   "execution_count": 39
  },
  {
   "metadata": {
    "ExecuteTime": {
     "end_time": "2025-01-21T14:29:03.598051Z",
     "start_time": "2025-01-21T14:29:03.297499Z"
    }
   },
   "cell_type": "code",
   "source": [
    "company_email = \"ardwolfarchers@gmail.com\"\n",
    "list_of_emails = email_finder(filename)\n",
    "print(list_of_emails)\n",
    "if company_email == \"\":\n",
    "    company_email = company_email(list_of_emails)\n",
    "    is_email_correct = True\n",
    "else:\n",
    "    is_email_correct = email_checker(list_of_emails, company_email)\n",
    "\n",
    "print(is_email_correct)"
   ],
   "id": "e80e56da329cfd80",
   "outputs": [
    {
     "name": "stdout",
     "output_type": "stream",
     "text": [
      "['aardwolfarchers@gmail.com', 'aardwolfarchers@gmail.com', 'aardwolfarchers@gmail.com', 'aardwolfarchers@gmail.com', 'aardwolfarchers@gmail.com', 'info@pindersschoolwear.co.ukwww.pindersschoolwear.com', 'aardwolfarchers@gmail.com', 'aardwolfarchers@gmail.com', 'aardwolfarchers@gmail.com', 'aardwolfarchers@gmail.com', 'aardwolfarchers@gmail.com', 'aardwolfarchers@gmail.com']\n",
      "email is invalid\n",
      "False\n"
     ]
    }
   ],
   "execution_count": 40
  },
  {
   "metadata": {
    "ExecuteTime": {
     "end_time": "2025-01-21T14:29:03.616179Z",
     "start_time": "2025-01-21T14:29:03.610145Z"
    }
   },
   "cell_type": "code",
   "source": [
    "def email_checker_soup_test(base_url, filename=f\"{base_url}.txt\", company_email=\"\"):\n",
    "\n",
    "    list_of_urls = get_links(base_url)\n",
    "    print(list_of_urls)\n",
    "\n",
    "    with open(filename, \"w\") as file:\n",
    "        for site in list_of_urls:\n",
    "            formatted_string = format_string(get_site_text(site) + \"\\n\\n\")\n",
    "            file.write(formatted_string)\n",
    "\n",
    "    list_of_emails = email_finder(filename)\n",
    "    if company_email == \"\":\n",
    "        print(\"company email has been updated\")\n",
    "        company_email = company_email(list_of_emails)\n",
    "        is_email_correct = True\n",
    "    else:\n",
    "        is_email_correct = email_checker(list_of_emails, company_email)\n",
    "\n",
    "    return is_email_correct, company_email"
   ],
   "id": "262c1f6e508bcf2a",
   "outputs": [],
   "execution_count": 41
  }
 ],
 "metadata": {
  "kernelspec": {
   "display_name": "Python 3",
   "language": "python",
   "name": "python3"
  },
  "language_info": {
   "codemirror_mode": {
    "name": "ipython",
    "version": 2
   },
   "file_extension": ".py",
   "mimetype": "text/x-python",
   "name": "python",
   "nbconvert_exporter": "python",
   "pygments_lexer": "ipython2",
   "version": "2.7.6"
  }
 },
 "nbformat": 4,
 "nbformat_minor": 5
}
